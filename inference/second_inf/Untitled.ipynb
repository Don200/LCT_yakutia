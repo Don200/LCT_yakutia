{
 "cells": [
  {
   "cell_type": "code",
   "execution_count": 1,
   "id": "7fed7320-c46b-4c68-ad2f-2c4fd5979448",
   "metadata": {},
   "outputs": [],
   "source": [
    "from transformers import AutoModelForSequenceClassification,AutoTokenizer\n",
    "import warnings, logging\n",
    "warnings.simplefilter('ignore')\n",
    "logging.disable(logging.WARNING)"
   ]
  },
  {
   "cell_type": "code",
   "execution_count": null,
   "id": "5d246d51-e88d-4a90-a47b-c9aa6dd25554",
   "metadata": {},
   "outputs": [],
   "source": [
    "model_nm = \"IlyaGusev/saiga_mistral_7b\"\n",
    "model = AutoModelForSequenceClassification.from_pretrained(model_nm, return_dict=True)\n",
    "tokenizer = AutoTokenizer.from_pretrained(model_nm)"
   ]
  }
 ],
 "metadata": {
  "kernelspec": {
   "display_name": "Python 3 (ipykernel)",
   "language": "python",
   "name": "python3"
  },
  "language_info": {
   "codemirror_mode": {
    "name": "ipython",
    "version": 3
   },
   "file_extension": ".py",
   "mimetype": "text/x-python",
   "name": "python",
   "nbconvert_exporter": "python",
   "pygments_lexer": "ipython3",
   "version": "3.10.12"
  }
 },
 "nbformat": 4,
 "nbformat_minor": 5
}
