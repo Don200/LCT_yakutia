{
 "cells": [
  {
   "cell_type": "code",
   "execution_count": 1,
   "id": "7fed7320-c46b-4c68-ad2f-2c4fd5979448",
   "metadata": {},
   "outputs": [],
   "source": [
    "from peft import PeftModel, PeftConfig\n",
    "from transformers import AutoModelForCausalLM, AutoTokenizer, GenerationConfig\n",
    "import torch"
   ]
  },
  {
   "cell_type": "code",
   "execution_count": 2,
   "id": "5d246d51-e88d-4a90-a47b-c9aa6dd25554",
   "metadata": {},
   "outputs": [
    {
     "data": {
      "application/vnd.jupyter.widget-view+json": {
       "model_id": "ef1c42acbcb9402789b50201f815fffe",
       "version_major": 2,
       "version_minor": 0
      },
      "text/plain": [
       "Loading checkpoint shards:   0%|          | 0/2 [00:00<?, ?it/s]"
      ]
     },
     "metadata": {},
     "output_type": "display_data"
    }
   ],
   "source": [
    "MODEL_NAME = \"IlyaGusev/saiga_mistral_7b\"\n",
    "config = PeftConfig.from_pretrained(MODEL_NAME)\n",
    "model = AutoModelForCausalLM.from_pretrained(\n",
    "    config.base_model_name_or_path,\n",
    "    torch_dtype=torch.float16,\n",
    "    device_map=\"auto\",\n",
    ")\n",
    "\n",
    "model = PeftModel.from_pretrained(\n",
    "    model,\n",
    "    MODEL_NAME,\n",
    "    torch_dtype=torch.float16\n",
    ")"
   ]
  },
  {
   "cell_type": "code",
   "execution_count": 3,
   "id": "f6641448-31c8-4b59-b1a9-c4c3537592e8",
   "metadata": {},
   "outputs": [
    {
     "name": "stderr",
     "output_type": "stream",
     "text": [
      "Special tokens have been added in the vocabulary, make sure the associated word embeddings are fine-tuned or trained.\n"
     ]
    },
    {
     "name": "stdout",
     "output_type": "stream",
     "text": [
      "GenerationConfig {\n",
      "  \"bos_token_id\": 1,\n",
      "  \"do_sample\": true,\n",
      "  \"eos_token_id\": 2,\n",
      "  \"max_new_tokens\": 1536,\n",
      "  \"no_repeat_ngram_size\": 15,\n",
      "  \"pad_token_id\": 0,\n",
      "  \"repetition_penalty\": 1.1,\n",
      "  \"temperature\": 0.2,\n",
      "  \"top_k\": 40,\n",
      "  \"top_p\": 0.9\n",
      "}\n",
      "\n"
     ]
    }
   ],
   "source": [
    "import torch\n",
    "from peft import PeftModel, PeftConfig\n",
    "from transformers import AutoModelForCausalLM, AutoTokenizer, GenerationConfig\n",
    "\n",
    "MODEL_NAME = \"IlyaGusev/saiga_mistral_7b\"\n",
    "DEFAULT_MESSAGE_TEMPLATE = \"<s>{role}\\n{content}</s>\"\n",
    "DEFAULT_RESPONSE_TEMPLATE = \"<s>bot\\n\"\n",
    "DEFAULT_SYSTEM_PROMPT = \"Ты — Сайга, русскоязычный автоматический ассистент. Ты разговариваешь с людьми и помогаешь им.\"\n",
    "\n",
    "class Conversation:\n",
    "    def __init__(\n",
    "        self,\n",
    "        message_template=DEFAULT_MESSAGE_TEMPLATE,\n",
    "        system_prompt=DEFAULT_SYSTEM_PROMPT,\n",
    "        response_template=DEFAULT_RESPONSE_TEMPLATE\n",
    "    ):\n",
    "        self.message_template = message_template\n",
    "        self.response_template = response_template\n",
    "        self.messages = [{\n",
    "            \"role\": \"system\",\n",
    "            \"content\": system_prompt\n",
    "        }]\n",
    "\n",
    "    def add_user_message(self, message):\n",
    "        self.messages.append({\n",
    "            \"role\": \"user\",\n",
    "            \"content\": message\n",
    "        })\n",
    "\n",
    "    def add_bot_message(self, message):\n",
    "        self.messages.append({\n",
    "            \"role\": \"bot\",\n",
    "            \"content\": message\n",
    "        })\n",
    "\n",
    "    def get_prompt(self, tokenizer):\n",
    "        final_text = \"\"\n",
    "        for message in self.messages:\n",
    "            message_text = self.message_template.format(**message)\n",
    "            final_text += message_text\n",
    "        final_text += DEFAULT_RESPONSE_TEMPLATE\n",
    "        return final_text.strip()\n",
    "\n",
    "\n",
    "def generate(model, tokenizer, prompt, generation_config):\n",
    "    data = tokenizer(prompt, return_tensors=\"pt\", add_special_tokens=False)\n",
    "    data = {k: v.to(model.device) for k, v in data.items()}\n",
    "    output_ids = model.generate(\n",
    "        **data,\n",
    "        generation_config=generation_config\n",
    "    )[0]\n",
    "    output_ids = output_ids[len(data[\"input_ids\"][0]):]\n",
    "    output = tokenizer.decode(output_ids, skip_special_tokens=True)\n",
    "    return output.strip()\n",
    "\n",
    "\n",
    "\n",
    "\n",
    "tokenizer = AutoTokenizer.from_pretrained(MODEL_NAME, use_fast=False)\n",
    "generation_config = GenerationConfig.from_pretrained(MODEL_NAME)\n",
    "print(generation_config)"
   ]
  },
  {
   "cell_type": "code",
   "execution_count": 4,
   "id": "6351a967-22b0-4d74-b125-973b7df4fa42",
   "metadata": {},
   "outputs": [
    {
     "name": "stdout",
     "output_type": "stream",
     "text": [
      "<s>system\n",
      "Ты — Сайга, русскоязычный автоматический ассистент. Ты разговариваешь с людьми и помогаешь им.</s><s>user\n",
      "Сочини длинный рассказ, обязательно упоминая следующие объекты. Дано: Таня, мяч</s><s>bot\n",
      "Таня была маленькой девочкой, которая любила играть в футбол. Она жила в небольшом городке, где все знали друг друга и всегда были готовы помочь. В этом городке было много парков и площадок для игр, но Таня предпочитала играть на своей любимой площадке - это был старый стадион, который находился в самом центре города.\n",
      "\n",
      "На этом стадионе было много историй и воспоминаний, которые связывались с футболом. Здесь проходили матчи местных команд, турниры и праздники. Таня часто приходила на стадион со своими друзьями, чтобы играть в футбол или просто отдыхать.\n",
      "\n",
      "Однажды, когда Таня пришла на стадион, она увидела, что там собралось много людей. Оказалось, что на стадионе проводится большой футбольный турнир. Все участники были очень сильными и умелыми игроками, и их игра вызывала восхищение у зрителей.\n",
      "\n",
      "Таня решила остаться на стадионе до конца матча и посмотреть, как будут играть лучшие игроки. Она сидела на трибуне и смотрела, как они борются за победу. Игра была очень интересной и напряженной, и Таня понимала, что ей стоит научиться играть так же хорошо, как эти игроки.\n",
      "\n",
      "Во время матча Таня заметила, что один из игроков имеет особенно красивый мяч. Этот мяч был ярко-красного цвета и на его поверхности были изображены стилизованные листья. Таня полюбила этот мяч с первого взгляда и решила, что нужно купить его себе.\n",
      "\n",
      "После матча Таня подошла к одному из продавщикам и попросила его продать ей этот красивый мяч. Продавец улыбнулся и сказал, что он тоже любит этот мяч и хотел бы продать его только тем, кто настоятельно захочет его купить. Таня поняла, что ей нужно показать, что она действительно заинтересована в этом мяче.\n",
      "\n",
      "Таня начала играть в футбол с этим мячом на стадионе, и все зрители сразу же обратили на неё внимание. Её игра была очень увлекательной и энергичной, и она смогла завоевать сердца многих людей. Таня играла с этим мячом каждый день, и он стал ее самым дорогоценным товаром.\n",
      "\n",
      "Вскоре Таня стала известной в городе как талантливая футболистка, и ей даже предложили играть в местную команду. Она радовалась своим успеху и была очень благодарна своему красивому мячу, который помог ей открыть новый мир футбола.\n",
      "\n",
      "Итак, этот рассказ о Тане и её красивом мяче является примером того, как маленькие вещи могут стать важными и определяющими факторами в нашей жизни. Таня никогда не могла представить, что одно простые встречи с мячом на стадионе изменит ее жизнь, но это случилось.\n",
      "\n",
      "Таня продолжала играть в футбол и развиваться как игрок, а её красивый мяч стал символом ее успехов и стремления к великим целям. Именно благодаря этому мячу Таня смогла найти свою пассацию и стать известной футболисткой в своем городе.\n",
      "\n",
      "==============================\n",
      "\n",
      "<s>system\n",
      "Ты — Сайга, русскоязычный автоматический ассистент. Ты разговариваешь с людьми и помогаешь им.</s><s>user\n",
      "Почему трава зеленая?</s><s>bot\n",
      "Вопрос о цвете растений задавался уже многим ученым. В настоящее время существует несколько теорий, объясняющих почему трава зеленая.\n",
      "\n",
      "Одна из них связана с процессом фотосинтеза. Фотосинтез - это процесс, который происходит в хлоропластах растительных клеток и позволяет растениям превращать свет, воду и углекислый газ (CO2) в энергию, кислород и органические соединения. Хлоропласты содержат пигменты, которые отражают свет и поглощают его для фотосинтеза. Один из таких пигментов - хлорофилл, который имеет зеленый цвет.\n",
      "\n",
      "Еще одна теория говорит о том, что зеленый цвет может быть результатом оптической иллюзии. Когда свет падает на листья растений, некоторые лучи света отражаются обратно, а другие проходят через листья и поглощаются нижней стороной листьев. Это создает контраст между верхней и нижней сторонами листьев, что приводит к визуальному эффекту зеленого цвета.\n",
      "\n",
      "Наконец, еще одна теория предполагает, что зеленый цвет может быть результатами эволюции. Растения, которые имели зеленый цвет, были способны более эффективно использовать свет для фотосинтеза, что давало им конкурентное преимущество над другими растениями. С течением времени эти зеленые растения стали доминировать в экосистемах, и их зеленый цвет стал характерным признаком растений.\n",
      "\n",
      "В целом, все три теории могут объяснить почему трава зеленая. Однако, каждая из них имеет свои особенности и ограничения, и нет однозначного ответа на вопрос о цвете растений.\n",
      "\n",
      "==============================\n",
      "\n",
      "<s>system\n",
      "Ты — Сайга, русскоязычный автоматический ассистент. Ты разговариваешь с людьми и помогаешь им.</s><s>user\n",
      "Ты кто?</s><s>bot\n",
      "Я - Сайга, русскоязычный автоматический ассоциатор. Я использую машинное обучение для понимания текста и выполнения задач. Моя основная функция - помогать пользователям в решении их вопросов и задач.\n",
      "\n",
      "==============================\n",
      "\n",
      "<s>system\n",
      "Ты — Сайга, русскоязычный автоматический ассистент. Ты разговариваешь с людьми и помогаешь им.</s><s>user\n",
      "Привет!</s><s>bot\n",
      "Привет! Как могу вам помочь?\n",
      "\n",
      "==============================\n",
      "\n"
     ]
    }
   ],
   "source": [
    "inputs = [\"Сочини длинный рассказ, обязательно упоминая следующие объекты. Дано: Таня, мяч\", \"Почему трава зеленая?\", \"Ты кто?\", \"Привет!\"]\n",
    "for inp in inputs:\n",
    "    conversation = Conversation()\n",
    "    conversation.add_user_message(inp)\n",
    "    prompt = conversation.get_prompt(tokenizer)\n",
    "\n",
    "    output = generate(model, tokenizer, prompt, generation_config)\n",
    "    print(prompt)\n",
    "    print(output)\n",
    "    print()\n",
    "    print(\"==============================\")\n",
    "    print()"
   ]
  }
 ],
 "metadata": {
  "kernelspec": {
   "display_name": "Python 3 (ipykernel)",
   "language": "python",
   "name": "python3"
  },
  "language_info": {
   "codemirror_mode": {
    "name": "ipython",
    "version": 3
   },
   "file_extension": ".py",
   "mimetype": "text/x-python",
   "name": "python",
   "nbconvert_exporter": "python",
   "pygments_lexer": "ipython3",
   "version": "3.10.12"
  }
 },
 "nbformat": 4,
 "nbformat_minor": 5
}
